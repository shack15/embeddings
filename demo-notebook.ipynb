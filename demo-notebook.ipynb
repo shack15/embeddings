{
 "cells": [
  {
   "cell_type": "code",
   "execution_count": 3,
   "metadata": {},
   "outputs": [],
   "source": [
    "import embeddings\n",
    "from embeddings import Database"
   ]
  },
  {
   "cell_type": "code",
   "execution_count": null,
   "metadata": {},
   "outputs": [],
   "source": [
    "embeddings.api_key = API_KEY\n",
    "\n",
    "db = Database()\n",
    "\n",
    "# Create a collection\n",
    "collection = db.create_collection(\"books_collection\")"
   ]
  },
  {
   "cell_type": "code",
   "execution_count": null,
   "metadata": {},
   "outputs": [],
   "source": [
    "# Example data\n",
    "documents = [f\"Book {i}\" for i in range(1, 11)]\n",
    "embeddings = [[0.1*i, 0.2*i, 0.3*i] for i in range(1, 11)]\n",
    "metadatas = [{\"title\": f\"Book {i}\", \"author\": f\"Author {i%3}\", \"genre\": \"fiction\" if i%2 == 0 else \"non-fiction\", \"year\": 2000+i} for i in range(1, 11)]\n",
    "ids = [f\"id{i}\" for i in range(1, 11)]\n",
    "\n",
    "# Add embeddings\n",
    "add_response = collection.add(embeddings, documents, metadatas, ids)\n",
    "print(add_response)"
   ]
  },
  {
   "cell_type": "code",
   "execution_count": null,
   "metadata": {},
   "outputs": [],
   "source": [
    "# Query embeddings\n",
    "\n",
    "### SINGLE DICTIONARY FILTERING ###\n",
    "# Query with simple equality filter on genre\n",
    "# How to query with a single where metadata clause\n",
    "query_response_genre = collection.query(embedding=[0.1, 0.2, 0.3], n_results=2, where={\"genre\": \"fiction\"})\n",
    "print(\"Query Response - Genre Filter:\", query_response_genre)\n",
    "\n",
    "# To include embeddings in the response, set include_embeddings=True\n",
    "query_response_genre = collection.query(embedding=[0.1, 0.2, 0.3], n_results=2, where={\"genre\": \"fiction\"}, include_embeddings=True)\n",
    "print(\"Query Response - Genre Filter:\", query_response_genre)\n",
    "\n",
    "### USING In AND NotIn ###\n",
    "# Query using 'In' for author inclusion\n",
    "# How to query with a metadata key clause with multiple values\n",
    "query_response_in = collection.query(embedding=[0.1, 0.2, 0.3], n_results=2, where={\"author\": {\"$in\": [\"Author 1\", \"Author 2\"]}})\n",
    "print(\"Query Response - $in (Author):\", query_response_in)\n",
    "\n",
    "# Query using 'NotIn' for genre exclusion\n",
    "# How to query with a metadata key clause avoiding multiple values\n",
    "query_response_notin = collection.query(embedding=[0.1, 0.2, 0.3], n_results=2, where={\"genre\": {\"$nin\": [\"non-fiction\"]}})\n",
    "print(\"Query Response - $nin (Genre):\", query_response_notin)\n",
    "\n",
    "### LOGICAL CONDITIONALS $and AND $or ###\n",
    "# Query using '$and' for multiple conditions (genre and year)\n",
    "query_response_and = collection.query(embedding=[0.1, 0.2, 0.3], n_results=2, where={\"$and\": [{\"genre\": {\"$eq\": \"fiction\"}}, {\"year\": {\"$gt\": 2005}}]})\n",
    "print(\"Query Response - $and (Genre & Year):\", query_response_and)\n",
    "\n",
    "# Query using '$or' for either condition (author or year)\n",
    "query_response_or = collection.query(embedding=[0.1, 0.2, 0.3], n_results=2, where={\"$or\": [{\"author\": {\"$eq\": \"Author 1\"}}, {\"year\": {\"$lte\": 2003}}]})\n",
    "print(\"Query Response - $or (Author or Year):\", query_response_or)"
   ]
  },
  {
   "cell_type": "code",
   "execution_count": null,
   "metadata": {},
   "outputs": [],
   "source": [
    "### Using the get Method ###\n",
    "\n",
    "# 1. Get documents by IDs\n",
    "get_response_ids = collection.get(ids=[\"id1\", \"id2\"])\n",
    "print(\"Get Response by IDs:\", get_response_ids)\n",
    "\n",
    "# 2. Get documents with metadata filter\n",
    "# Example: Retrieve documents where genre is fiction\n",
    "get_response_metadata = collection.get(where={\"genre\": \"fiction\"})\n",
    "print(\"Get Response with Metadata Filter:\", get_response_metadata)\n",
    "\n",
    "# 3. Get documents with a search string\n",
    "# Example: Search for a specific title or part of a document\n",
    "get_response_search = collection.get(search_string=\"Book 5\")\n",
    "print(\"Get Response with Search String:\", get_response_search)\n",
    "\n",
    "# 4. Get documents with combined IDs and metadata filter\n",
    "# Example: Retrieve specific IDs within a certain genre\n",
    "get_response_combined = collection.get(ids=[\"id3\", \"id4\", \"id5\"], where={\"genre\": \"non-fiction\"})\n",
    "print(\"Get Response with Combined IDs and Metadata:\", get_response_combined)\n",
    "\n",
    "# 5. Include embeddings in the response\n",
    "# Example: Retrieve a document by ID and include its embedding\n",
    "get_response_include = collection.get(ids=[\"id1\"], include_embeddings=True)\n",
    "print(\"Get Response with Embedding Included:\", get_response_include)"
   ]
  },
  {
   "cell_type": "code",
   "execution_count": null,
   "metadata": {},
   "outputs": [],
   "source": [
    "# Count items\n",
    "count_response = collection.count()\n",
    "print(count_response)"
   ]
  },
  {
   "cell_type": "code",
   "execution_count": null,
   "metadata": {},
   "outputs": [],
   "source": [
    "# Rename the collection\n",
    "# collection.rename(\"new_collection_name\")"
   ]
  },
  {
   "cell_type": "code",
   "execution_count": null,
   "metadata": {},
   "outputs": [],
   "source": [
    "# Delete specific items\n",
    "collection.delete(ids=[\"id1\"])"
   ]
  },
  {
   "cell_type": "code",
   "execution_count": null,
   "metadata": {},
   "outputs": [],
   "source": [
    "# Delete the collection\n",
    "db.delete_collection(\"books_collection\")"
   ]
  }
 ],
 "metadata": {
  "kernelspec": {
   "display_name": "Python 3",
   "language": "python",
   "name": "python3"
  },
  "language_info": {
   "codemirror_mode": {
    "name": "ipython",
    "version": 3
   },
   "file_extension": ".py",
   "mimetype": "text/x-python",
   "name": "python",
   "nbconvert_exporter": "python",
   "pygments_lexer": "ipython3",
   "version": "3.10.5"
  }
 },
 "nbformat": 4,
 "nbformat_minor": 2
}
