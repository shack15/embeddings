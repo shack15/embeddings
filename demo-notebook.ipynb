{
 "cells": [
  {
   "cell_type": "code",
   "execution_count": 3,
   "metadata": {},
   "outputs": [],
   "source": [
    "import embeddings\n",
    "from embeddings import Database"
   ]
  },
  {
   "cell_type": "code",
   "execution_count": null,
   "metadata": {},
   "outputs": [],
   "source": [
    "embeddings.api_key = API_KEY\n",
    "\n",
    "db = Database()\n",
    "\n",
    "# Create a collection\n",
    "collection = db.create_collection(\"my_collection\")"
   ]
  },
  {
   "cell_type": "code",
   "execution_count": null,
   "metadata": {},
   "outputs": [],
   "source": [
    "# Example data\n",
    "documents = [\"Document 1\", \"Document 2\"]\n",
    "embeddings = [[1.0, 2.0, 3.0], [4.0, 5.0, 6.0]]\n",
    "metadatas = [{\"meta\": \"data1\"}, {\"meta\": \"data2\"}]\n",
    "ids = [\"id1\", \"id2\"]\n",
    "\n",
    "# Add embeddings\n",
    "add_response = collection.add(documents, metadatas, ids, embeddings)\n",
    "print(add_response)"
   ]
  },
  {
   "cell_type": "code",
   "execution_count": null,
   "metadata": {},
   "outputs": [],
   "source": [
    "# Query embeddings\n",
    "query_embeddings = [[1.0, 2.0, 3.0]]\n",
    "query_response = collection.query(query_embeddings, n_results=2)\n",
    "print(query_response)"
   ]
  },
  {
   "cell_type": "code",
   "execution_count": null,
   "metadata": {},
   "outputs": [],
   "source": [
    "# Get specific documents\n",
    "get_response = collection.get(ids=[\"id1\", \"id2\"])\n",
    "print(get_response)"
   ]
  },
  {
   "cell_type": "code",
   "execution_count": null,
   "metadata": {},
   "outputs": [],
   "source": [
    "# Count items\n",
    "count_response = collection.count()\n",
    "print(count_response)"
   ]
  },
  {
   "cell_type": "code",
   "execution_count": null,
   "metadata": {},
   "outputs": [],
   "source": [
    "# Rename the collection\n",
    "collection.rename(\"new_collection_name\")"
   ]
  },
  {
   "cell_type": "code",
   "execution_count": null,
   "metadata": {},
   "outputs": [],
   "source": [
    "# Delete specific items\n",
    "collection.delete(ids=[\"id1\"])"
   ]
  },
  {
   "cell_type": "code",
   "execution_count": null,
   "metadata": {},
   "outputs": [],
   "source": [
    "# Delete the collection\n",
    "db.delete_collection(\"new_collection_name\")"
   ]
  }
 ],
 "metadata": {
  "kernelspec": {
   "display_name": "Python 3",
   "language": "python",
   "name": "python3"
  },
  "language_info": {
   "codemirror_mode": {
    "name": "ipython",
    "version": 3
   },
   "file_extension": ".py",
   "mimetype": "text/x-python",
   "name": "python",
   "nbconvert_exporter": "python",
   "pygments_lexer": "ipython3",
   "version": "3.10.5"
  }
 },
 "nbformat": 4,
 "nbformat_minor": 2
}
